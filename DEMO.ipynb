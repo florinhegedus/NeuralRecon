{
 "cells": [
  {
   "cell_type": "code",
   "execution_count": 2,
   "id": "66cf7077",
   "metadata": {},
   "outputs": [
    {
     "name": "stdout",
     "output_type": "stream",
     "text": [
      "\u001b[32m2022-02-01 12:12:06.422\u001b[0m | \u001b[1mINFO    \u001b[0m | \u001b[36m__main__\u001b[0m:\u001b[36m<module>\u001b[0m:\u001b[36m32\u001b[0m - \u001b[1mFirst run on this captured data, start the pre-processing...\u001b[0m\n",
      "Extract images from video...\n",
      "100%|███████████████████████████████████████| 5301/5301 [01:21<00:00, 64.78it/s]\n",
      "Load intrinsics and extrinsics\n",
      "Traceback (most recent call last):\n",
      "  File \"demo.py\", line 33, in <module>\n",
      "    process_data(cfg.TEST.PATH)\n",
      "  File \"/home/florin/licenta/NeuralRecon/tools/process_arkit_data.py\", line 24, in process_data\n",
      "    os.path.join(data_path, 'SyncedPoses.txt'))\n",
      "  File \"/home/florin/licenta/NeuralRecon/tools/sync_poses.py\", line 7, in sync_intrinsics_and_poses\n",
      "    assert os.path.isfile(cam_file), \"camera info:{} not found\".format(cam_file)\n",
      "AssertionError: camera info:/mnt/e/licenta/NeuralRecon/datasets/neucon_demodata_b5f1/neucon_demodata_b5f1/Frames.txt not found\n"
     ]
    }
   ],
   "source": [
    "! python demo.py --cfg ./config/demo.yaml"
   ]
  },
  {
   "cell_type": "code",
   "execution_count": null,
   "id": "48c04101",
   "metadata": {},
   "outputs": [],
   "source": []
  }
 ],
 "metadata": {
  "kernelspec": {
   "display_name": "Python 3.7 (pytorch)",
   "language": "python",
   "name": "pytorch"
  },
  "language_info": {
   "codemirror_mode": {
    "name": "ipython",
    "version": 3
   },
   "file_extension": ".py",
   "mimetype": "text/x-python",
   "name": "python",
   "nbconvert_exporter": "python",
   "pygments_lexer": "ipython3",
   "version": "3.7.9"
  }
 },
 "nbformat": 4,
 "nbformat_minor": 5
}
